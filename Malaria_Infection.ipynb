{
  "nbformat": 4,
  "nbformat_minor": 0,
  "metadata": {
    "kernelspec": {
      "display_name": "Python 3",
      "language": "python",
      "name": "python3"
    },
    "language_info": {
      "codemirror_mode": {
        "name": "ipython",
        "version": 3
      },
      "file_extension": ".py",
      "mimetype": "text/x-python",
      "name": "python",
      "nbconvert_exporter": "python",
      "pygments_lexer": "ipython3",
      "version": "3.8.5"
    },
    "colab": {
      "name": "HP_Project.ipynb",
      "provenance": [],
      "collapsed_sections": [],
      "machine_shape": "hm",
      "include_colab_link": true
    },
    "accelerator": "GPU"
  },
  "cells": [
    {
      "cell_type": "markdown",
      "metadata": {
        "id": "view-in-github",
        "colab_type": "text"
      },
      "source": [
        "<a href=\"https://colab.research.google.com/github/sagnik765/Malaria-Infection-Detection/blob/main/Malaria_Infection.ipynb\" target=\"_parent\"><img src=\"https://colab.research.google.com/assets/colab-badge.svg\" alt=\"Open In Colab\"/></a>"
      ]
    },
    {
      "cell_type": "code",
      "metadata": {
        "colab": {
          "base_uri": "https://localhost:8080/"
        },
        "id": "XikTK7E3Fzou",
        "outputId": "4def46ed-6971-41aa-8918-ab96cba66522"
      },
      "source": [
        "from google.colab import drive\n",
        "drive.mount('/content/drive')"
      ],
      "execution_count": null,
      "outputs": [
        {
          "output_type": "stream",
          "name": "stdout",
          "text": [
            "Mounted at /content/drive\n"
          ]
        }
      ]
    },
    {
      "cell_type": "code",
      "metadata": {
        "id": "xJi7-Z1QFDGW"
      },
      "source": [
        "import os\n",
        "import numpy as np\n",
        "import pandas as pd\n",
        "import pickle as pk\n",
        "from keras.models import Sequential\n",
        "from keras.layers import Dense, Input, Conv2D, AveragePooling2D, Dropout, Flatten, Activation, MaxPool2D\n",
        "from PIL import Image\n",
        "from sklearn.model_selection import train_test_split as tts\n",
        "import matplotlib.pyplot as plt\n",
        "import matplotlib.image as mpimg\n",
        "import cv2\n",
        "from keras.models import Sequential\n",
        "from keras.layers import Conv2D, MaxPooling2D\n",
        "from keras.layers import Activation, Dropout, Flatten, Dense\n",
        "import tqdm\n",
        "from PIL import Image\n",
        "import tensorflow as tf\n",
        "from keras.optimizers import adam_v2\n",
        "from tensorflow import keras\n",
        "from sklearn.metrics import classification_report"
      ],
      "execution_count": null,
      "outputs": []
    },
    {
      "cell_type": "markdown",
      "metadata": {
        "id": "pQ1hilNuGkr9"
      },
      "source": [
        "## Data Loader"
      ]
    },
    {
      "cell_type": "code",
      "metadata": {
        "id": "1xc4duKvpgln"
      },
      "source": [
        "X = np.load('/content/drive/MyDrive/NUS/Dataset/Arrays/Img.npy')\n",
        "Y = np.load('/content/drive/MyDrive/NUS/Dataset/Arrays/Label.npy')"
      ],
      "execution_count": null,
      "outputs": []
    },
    {
      "cell_type": "code",
      "metadata": {
        "id": "BVSoLE5Xfo-W"
      },
      "source": [
        "X_train, X_test, y_train, y_test = tts(X, Y, test_size=0.2, random_state=42, shuffle = True)"
      ],
      "execution_count": null,
      "outputs": []
    },
    {
      "cell_type": "markdown",
      "metadata": {
        "id": "U7d7XX9Eo5nX"
      },
      "source": [
        "## Data Processing"
      ]
    },
    {
      "cell_type": "code",
      "metadata": {
        "id": "6713haqt_eKW"
      },
      "source": [
        "path1 = '/content/drive/MyDrive/NUS/Dataset/cell_images/Parasitized'\n",
        "a = os.listdir(path1)"
      ],
      "execution_count": null,
      "outputs": []
    },
    {
      "cell_type": "code",
      "metadata": {
        "id": "_7E5jSvKu6Qz"
      },
      "source": [
        "path2 = '/content/drive/MyDrive/NUS/Dataset/cell_images/Uninfected'\n",
        "b = os.listdir(path2)"
      ],
      "execution_count": null,
      "outputs": []
    },
    {
      "cell_type": "code",
      "metadata": {
        "id": "MB874TfgJgQF",
        "colab": {
          "base_uri": "https://localhost:8080/"
        },
        "outputId": "4a4ce4fb-4f8d-46d7-c511-8a4ef6428e43"
      },
      "source": [
        "path = '/content/drive/MyDrive/NUS/Dataset/cell_images/Parasitized'\n",
        "img_list = []\n",
        "for i in range(0, len(a)):\n",
        "    path1 = path + \"/\" + a[i]\n",
        "    img = cv2.imread(path1)\n",
        "    try:\n",
        "        img_small = cv2.resize(img, (128, 128), interpolation = cv2.INTER_AREA)\n",
        "    except:\n",
        "        print(a[i])\n",
        "        continue\n",
        "    if img_small.shape == (128,128,3):\n",
        "        img_list.append(img_small)\n",
        "    else:\n",
        "        continue"
      ],
      "execution_count": null,
      "outputs": [
        {
          "output_type": "stream",
          "name": "stdout",
          "text": [
            "Thumbs.db\n"
          ]
        }
      ]
    },
    {
      "cell_type": "code",
      "metadata": {
        "id": "b4-K62Vb-TBq"
      },
      "source": [
        "n1 = np.asarray(img_list)\n",
        "p = np.zeros((n1.shape[0], 1))"
      ],
      "execution_count": null,
      "outputs": []
    },
    {
      "cell_type": "code",
      "metadata": {
        "id": "T54m5VGEGRF2"
      },
      "source": [
        "np.save('/content/drive/MyDrive/NUS/Dataset/Arrays/P_img.npy', n1)\n",
        "np.save('/content/drive/MyDrive/NUS/Dataset/Arrays/P_L.npy', p)"
      ],
      "execution_count": null,
      "outputs": []
    },
    {
      "cell_type": "code",
      "metadata": {
        "id": "o3m4m9sMyU3B"
      },
      "source": [
        "a = np.load('/content/drive/MyDrive/NUS/Dataset/Arrays/UI_L.npy')"
      ],
      "execution_count": null,
      "outputs": []
    },
    {
      "cell_type": "code",
      "metadata": {
        "id": "b3TB-ZxtyhZy"
      },
      "source": [
        "b = np.load('/content/drive/MyDrive/NUS/Dataset/Arrays/P_L.npy')"
      ],
      "execution_count": null,
      "outputs": []
    },
    {
      "cell_type": "code",
      "metadata": {
        "id": "WHYArXLUqIwn"
      },
      "source": [
        "c = np.concatenate((a, b), axis = 0)\n",
        "np.save('/content/drive/MyDrive/NUS/Dataset/Arrays/Label.npy', c)"
      ],
      "execution_count": null,
      "outputs": []
    },
    {
      "cell_type": "code",
      "metadata": {
        "colab": {
          "base_uri": "https://localhost:8080/",
          "height": 285
        },
        "id": "WUNrdMVZWO_N",
        "outputId": "097f7ca7-2b36-4f18-e6ed-5a1d83513e58"
      },
      "source": [
        "plt.imshow(c[20000])"
      ],
      "execution_count": null,
      "outputs": [
        {
          "output_type": "execute_result",
          "data": {
            "text/plain": [
              "<matplotlib.image.AxesImage at 0x7f56ebb5f150>"
            ]
          },
          "metadata": {},
          "execution_count": 22
        },
        {
          "output_type": "display_data",
          "data": {
            "image/png": "[encoded data removed]",
            "text/plain": [
              "<Figure size 432x288 with 1 Axes>"
            ]
          },
          "metadata": {
            "needs_background": "light"
          }
        }
      ]
    },
    {
      "cell_type": "code",
      "metadata": {
        "id": "dwINoIIuymCo"
      },
      "source": [
        "c = np.concatenate((a,b), axis = 0)"
      ],
      "execution_count": null,
      "outputs": []
    },
    {
      "cell_type": "code",
      "metadata": {
        "id": "dW_t9XRmy4pY"
      },
      "source": [
        "np.save('/content/drive/MyDrive/NUS/Dataset/Arrays/Label.npy', c)"
      ],
      "execution_count": null,
      "outputs": []
    },
    {
      "cell_type": "markdown",
      "metadata": {
        "id": "ndRPutabGqET"
      },
      "source": [
        "# Model"
      ]
    },
    {
      "cell_type": "code",
      "metadata": {
        "id": "DGge3luPj0F2",
        "colab": {
          "base_uri": "https://localhost:8080/"
        },
        "outputId": "23a4cfc0-9406-425d-a06e-7ef8864ce0cb"
      },
      "source": [
        "model = Sequential()\n",
        "model.add(Conv2D(32,3,padding=\"same\", activation=\"relu\", input_shape=(128,128,3)))\n",
        "model.add(MaxPool2D())\n",
        "\n",
        "model.add(Conv2D(32, 3, padding=\"same\", activation=\"relu\"))\n",
        "model.add(MaxPool2D())\n",
        "\n",
        "model.add(Conv2D(64, 3, padding=\"same\", activation=\"relu\"))\n",
        "model.add(MaxPool2D())\n",
        "model.add(Dropout(0.4))\n",
        "\n",
        "model.add(Flatten())\n",
        "model.add(Dense(128,activation=\"relu\"))\n",
        "model.add(Dense(2, activation=\"softmax\"))\n",
        "\n",
        "model.summary()"
      ],
      "execution_count": null,
      "outputs": [
        {
          "output_type": "stream",
          "name": "stdout",
          "text": [
            "Model: \"sequential_14\"\n",
            "_________________________________________________________________\n",
            "Layer (type)                 Output Shape              Param #   \n",
            "=================================================================\n",
            "conv2d_35 (Conv2D)           (None, 128, 128, 32)      896       \n",
            "_________________________________________________________________\n",
            "max_pooling2d_34 (MaxPooling (None, 64, 64, 32)        0         \n",
            "_________________________________________________________________\n",
            "conv2d_36 (Conv2D)           (None, 64, 64, 32)        9248      \n",
            "_________________________________________________________________\n",
            "max_pooling2d_35 (MaxPooling (None, 32, 32, 32)        0         \n",
            "_________________________________________________________________\n",
            "conv2d_37 (Conv2D)           (None, 32, 32, 64)        18496     \n",
            "_________________________________________________________________\n",
            "max_pooling2d_36 (MaxPooling (None, 16, 16, 64)        0         \n",
            "_________________________________________________________________\n",
            "dropout_11 (Dropout)         (None, 16, 16, 64)        0         \n",
            "_________________________________________________________________\n",
            "flatten_12 (Flatten)         (None, 16384)             0         \n",
            "_________________________________________________________________\n",
            "dense_24 (Dense)             (None, 128)               2097280   \n",
            "_________________________________________________________________\n",
            "dense_25 (Dense)             (None, 2)                 258       \n",
            "=================================================================\n",
            "Total params: 2,126,178\n",
            "Trainable params: 2,126,178\n",
            "Non-trainable params: 0\n",
            "_________________________________________________________________\n"
          ]
        }
      ]
    },
    {
      "cell_type": "code",
      "metadata": {
        "id": "lRw278dOnM6V"
      },
      "source": [
        "#opt = keras.optimizers.Adam(learning_rate=0.000001)\n",
        "model.compile(optimizer = 'adam' , loss = tf.keras.losses.SparseCategoricalCrossentropy(from_logits=True) , metrics = ['accuracy'])"
      ],
      "execution_count": null,
      "outputs": []
    },
    {
      "cell_type": "code",
      "metadata": {
        "id": "WOtkc7O1nT3R",
        "colab": {
          "base_uri": "https://localhost:8080/"
        },
        "outputId": "0e56216c-f759-483d-c7c1-57b59ac7aa89"
      },
      "source": [
        "history = model.fit(X_train, y_train, epochs = 10 , shuffle= True, batch_size= 32, validation_split = 0.1 )"
      ],
      "execution_count": null,
      "outputs": [
        {
          "output_type": "stream",
          "name": "stdout",
          "text": [
            "Epoch 1/10\n"
          ]
        },
        {
          "output_type": "stream",
          "name": "stderr",
          "text": [
            "/usr/local/lib/python3.7/dist-packages/keras/backend.py:4907: UserWarning: \"`sparse_categorical_crossentropy` received `from_logits=True`, but the `output` argument was produced by a sigmoid or softmax activation and thus does not represent logits. Was this intended?\"\n",
            "  '\"`sparse_categorical_crossentropy` received `from_logits=True`, but '\n"
          ]
        },
        {
          "output_type": "stream",
          "name": "stdout",
          "text": [
            "621/621 [==============================] - 12s 18ms/step - loss: 0.9634 - accuracy: 0.8492 - val_loss: 0.1916 - val_accuracy: 0.9438\n",
            "Epoch 2/10\n",
            "621/621 [==============================] - 11s 18ms/step - loss: 0.1579 - accuracy: 0.9488 - val_loss: 0.1678 - val_accuracy: 0.9420\n",
            "Epoch 3/10\n",
            "621/621 [==============================] - 11s 18ms/step - loss: 0.1314 - accuracy: 0.9572 - val_loss: 0.1679 - val_accuracy: 0.9388\n",
            "Epoch 4/10\n",
            "621/621 [==============================] - 11s 18ms/step - loss: 0.1242 - accuracy: 0.9580 - val_loss: 0.1727 - val_accuracy: 0.9510\n",
            "Epoch 5/10\n",
            "621/621 [==============================] - 11s 18ms/step - loss: 0.1081 - accuracy: 0.9628 - val_loss: 0.1558 - val_accuracy: 0.9492\n",
            "Epoch 6/10\n",
            "621/621 [==============================] - 11s 18ms/step - loss: 0.1030 - accuracy: 0.9632 - val_loss: 0.1923 - val_accuracy: 0.9293\n",
            "Epoch 7/10\n",
            "621/621 [==============================] - 11s 18ms/step - loss: 0.1052 - accuracy: 0.9643 - val_loss: 0.1827 - val_accuracy: 0.9470\n",
            "Epoch 8/10\n",
            "621/621 [==============================] - 11s 18ms/step - loss: 0.0902 - accuracy: 0.9696 - val_loss: 0.1715 - val_accuracy: 0.9483\n",
            "Epoch 9/10\n",
            "621/621 [==============================] - 11s 18ms/step - loss: 0.0802 - accuracy: 0.9714 - val_loss: 0.2281 - val_accuracy: 0.9470\n",
            "Epoch 10/10\n",
            "621/621 [==============================] - 11s 18ms/step - loss: 0.0723 - accuracy: 0.9745 - val_loss: 0.2240 - val_accuracy: 0.9465\n"
          ]
        }
      ]
    },
    {
      "cell_type": "markdown",
      "metadata": {
        "id": "JoqSmKIBsU9M"
      },
      "source": [
        "## Testing"
      ]
    },
    {
      "cell_type": "code",
      "metadata": {
        "id": "DpKmGJ7Zpvwb"
      },
      "source": [
        "pred = model.predict(X_test)"
      ],
      "execution_count": null,
      "outputs": []
    },
    {
      "cell_type": "code",
      "metadata": {
        "id": "YbKIyBwF584n"
      },
      "source": [
        "pred1 = []\n",
        "for i in range(0, pred.shape[0]):\n",
        "    a = pred[i]\n",
        "    if a[0] > a[1]:\n",
        "        pred1.append(0)\n",
        "    if a[0] < a[1]:\n",
        "        pred1.append(1)\n",
        "pred1 = np.asarray(pred1)\n",
        "pred1 = pred1.reshape(pred1.shape[0], 1)"
      ],
      "execution_count": null,
      "outputs": []
    },
    {
      "cell_type": "code",
      "metadata": {
        "colab": {
          "base_uri": "https://localhost:8080/"
        },
        "id": "bVtA3RbVtFf1",
        "outputId": "72d2b046-e750-4886-bbdc-1bccbc36b2b4"
      },
      "source": [
        "print(classification_report(y_test, pred1))"
      ],
      "execution_count": null,
      "outputs": [
        {
          "output_type": "stream",
          "name": "stdout",
          "text": [
            "              precision    recall  f1-score   support\n",
            "\n",
            "         0.0       0.95      0.96      0.95      2800\n",
            "         1.0       0.96      0.94      0.95      2714\n",
            "\n",
            "    accuracy                           0.95      5514\n",
            "   macro avg       0.95      0.95      0.95      5514\n",
            "weighted avg       0.95      0.95      0.95      5514\n",
            "\n"
          ]
        }
      ]
    },
    {
      "cell_type": "code",
      "metadata": {
        "id": "4dnYGcUyxivI"
      },
      "source": [
        ""
      ],
      "execution_count": null,
      "outputs": []
    }
  ]
}